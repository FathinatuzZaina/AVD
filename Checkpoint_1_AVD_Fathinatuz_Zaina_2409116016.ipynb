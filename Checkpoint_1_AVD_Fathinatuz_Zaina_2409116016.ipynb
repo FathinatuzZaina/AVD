{
  "nbformat": 4,
  "nbformat_minor": 0,
  "metadata": {
    "colab": {
      "provenance": [],
      "authorship_tag": "ABX9TyOkDWoSutJJePFxukTOfZFn",
      "include_colab_link": true
    },
    "kernelspec": {
      "name": "python3",
      "display_name": "Python 3"
    },
    "language_info": {
      "name": "python"
    }
  },
  "cells": [
    {
      "cell_type": "markdown",
      "metadata": {
        "id": "view-in-github",
        "colab_type": "text"
      },
      "source": [
        "<a href=\"https://colab.research.google.com/github/FathinatuzZaina/AVD/blob/main/Checkpoint_1_AVD_Fathinatuz_Zaina_2409116016.ipynb\" target=\"_parent\"><img src=\"https://colab.research.google.com/assets/colab-badge.svg\" alt=\"Open In Colab\"/></a>"
      ]
    },
    {
      "cell_type": "markdown",
      "source": [
        "BUSINESS UNDERSTANDING\n"
      ],
      "metadata": {
        "id": "XxYmU6syTjtX"
      }
    },
    {
      "cell_type": "markdown",
      "source": [
        "Business Objective\n",
        "\n",
        "Tujuan utama proyek ini adalah untuk melakukan analisis terhadap komposisi nutrisi dalam berbagai jenis makanan yang dipanggang, guna memberikan wawasan yang lebih jelas mengenai dampaknya terhadap kesehatan konsumen. Proyek ini bertujuan untuk menilai kandungan kalori, karbohidrat, dan serat yang terkandung."
      ],
      "metadata": {
        "id": "aG-9h4L9T2Hu"
      }
    },
    {
      "cell_type": "markdown",
      "source": [
        "Assess Situation\n",
        "\n",
        "Situasi bisnis yang mendasari proyek ini adalah untuk menghadapi permintaan makanan panggang dan kesadaran konsumen terhadap nutrisi dan kesehatan yang semakin meningkat. Konsumen lebih fokus untuk memahami kandungan nutrisi dari makanan yang mereka konsumsi, sehingga proyek ini akan membantu bisnis dalam mengidentifikasi makanan yang lebih sehat."
      ],
      "metadata": {
        "id": "pf0iyTPCZ7aY"
      }
    },
    {
      "cell_type": "markdown",
      "source": [
        "Data Mining Goals\n",
        "\n",
        "Mengidentifikasi komposisi nutrisi yang ada dalam makanan panggang untuk membuat makanan yang lebih sehat dengan mengamati kalori, protein, karbohidrat, serat dan gula yang terkandung dalam makanan panggang."
      ],
      "metadata": {
        "id": "FxbooissbgNj"
      }
    },
    {
      "cell_type": "markdown",
      "source": [
        "Project Plan\n",
        "\n",
        "1. Menentukan dataset\n",
        "2. Melakukan Data Preparation berupa Data Cleaning, dan lain-lain (Jika diperlukan)\n",
        "3. Analisis awal (untuk memahami komposisi nutrisi)\n",
        "4. Menyusun data-data yang telah di analisis dan menyoroti makanan yang menjadi alternatif lebih sehat."
      ],
      "metadata": {
        "id": "Zy76mGpikYcP"
      }
    },
    {
      "cell_type": "code",
      "source": [],
      "metadata": {
        "id": "X9c3wrprs6rr"
      },
      "execution_count": null,
      "outputs": []
    }
  ]
}